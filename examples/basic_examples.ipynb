{
 "cells": [
  {
   "cell_type": "code",
   "execution_count": 1,
   "id": "b058a77b-2709-4cb1-be39-6286a5f776aa",
   "metadata": {},
   "outputs": [],
   "source": [
    "from ltgee import LandTrendr, LandsatComposite, LtCollection\n",
    "from datetime import date\n",
    "import geemap\n",
    "import ee\n",
    "import os\n",
    "\n",
    "# Authenticate with Google Earth Engine before using. See link below for more information:\n",
    "# https://developers.google.com/earth-engine/guides/auth\n",
    "\n",
    "# add in your own project name\n",
    "ee.Initialize()"
   ]
  },
  {
   "cell_type": "code",
   "execution_count": 2,
   "id": "3c8fed3e-8031-4874-8cc2-341c492bb6ab",
   "metadata": {},
   "outputs": [
    {
     "data": {
      "text/html": [
       "\n",
       "            <style>\n",
       "                .geemap-dark {\n",
       "                    --jp-widgets-color: white;\n",
       "                    --jp-widgets-label-color: white;\n",
       "                    --jp-ui-font-color1: white;\n",
       "                    --jp-layout-color2: #454545;\n",
       "                    background-color: #383838;\n",
       "                }\n",
       "                    \n",
       "                .geemap-dark .jupyter-button {\n",
       "                    --jp-layout-color3: #383838;\n",
       "                }\n",
       "                \n",
       "                .geemap-colab {\n",
       "                    background-color: var(--colab-primary-surface-color, white);\n",
       "                }\n",
       "                    \n",
       "                .geemap-colab .jupyter-button {\n",
       "                    --jp-layout-color3: var(--colab-primary-surface-color, white);\n",
       "                }\n",
       "            </style>\n",
       "            "
      ],
      "text/plain": [
       "<IPython.core.display.HTML object>"
      ]
     },
     "metadata": {},
     "output_type": "display_data"
    }
   ],
   "source": [
    "# Example arguments to pass to the LandTrendr class. See docstring of LandTrendr for more information'\n",
    "composite_params = {\n",
    "    \"start_date\": date(1985, 6,1),\n",
    "    \"end_date\": date(2017, 9,1),\n",
    "    \"area_of_interest\": ee.Geometry({\n",
    "        'type': 'Polygon',\n",
    "        'coordinates': [\n",
    "            [\n",
    "                [-122.37202331327023,44.62585686599272],\n",
    "                [-122.26765319608273,44.62585686599272],\n",
    "                [-122.26765319608273,44.696185837887384],\n",
    "                [-122.37202331327023,44.696185837887384],\n",
    "                [-122.37202331327023,44.62585686599272],\n",
    "                ]\n",
    "            ]\n",
    "    }),\n",
    "    \"mask_labels\": ['cloud', 'shadow', 'snow', 'water'],\n",
    "    \"debug\": True\n",
    "}\n",
    "lt_collection_params = {\n",
    "        \"sr_collection\": LandsatComposite(**composite_params),\n",
    "        # \"sr_collection\": composite_params, # - you may also just pass in your own collection or the params directly\n",
    "        \"index\": 'NBR',\n",
    "        \"ftv_list\": ['TCB', 'TCG', 'TCW', 'NBR'],\n",
    "}\n",
    "lt_params = {\n",
    "    \"lt_collection\": LtCollection(**lt_collection_params),\n",
    "    # \"lt_collection\": lt_collection_params, # - you may also just pass in your own collection or the params directly\n",
    "    \"run_params\": {\n",
    "            \"maxSegments\": 6,\n",
    "            \"spikeThreshold\": 0.9,\n",
    "            \"vertexCountOvershoot\":  3,\n",
    "            \"preventOneYearRecovery\":  True,\n",
    "            \"recoveryThreshold\":  0.25,\n",
    "            \"pvalThreshold\":  .05,\n",
    "            \"bestModelProportion\":  0.75,\n",
    "            \"minObservationsNeeded\": 6,\n",
    "        }\n",
    "}"
   ]
  },
  {
   "cell_type": "code",
   "execution_count": 3,
   "id": "037de620-3cf7-4948-8622-dd1b88b63e51",
   "metadata": {
    "scrolled": true
   },
   "outputs": [
    {
     "data": {
      "text/html": [
       "\n",
       "            <style>\n",
       "                .geemap-dark {\n",
       "                    --jp-widgets-color: white;\n",
       "                    --jp-widgets-label-color: white;\n",
       "                    --jp-ui-font-color1: white;\n",
       "                    --jp-layout-color2: #454545;\n",
       "                    background-color: #383838;\n",
       "                }\n",
       "                    \n",
       "                .geemap-dark .jupyter-button {\n",
       "                    --jp-layout-color3: #383838;\n",
       "                }\n",
       "                \n",
       "                .geemap-colab {\n",
       "                    background-color: var(--colab-primary-surface-color, white);\n",
       "                }\n",
       "                    \n",
       "                .geemap-colab .jupyter-button {\n",
       "                    --jp-layout-color3: var(--colab-primary-surface-color, white);\n",
       "                }\n",
       "            </style>\n",
       "            "
      ],
      "text/plain": [
       "<IPython.core.display.HTML object>"
      ]
     },
     "metadata": {},
     "output_type": "display_data"
    },
    {
     "data": {
      "text/html": [
       "<div><style>:root {\n",
       "  --font-color-primary: var(--jp-content-font-color0, rgba(0, 0, 0, 1));\n",
       "  --font-color-secondary: var(--jp-content-font-color2, rgba(0, 0, 0, 0.6));\n",
       "  --font-color-accent: rgba(123, 31, 162, 1);\n",
       "  --border-color: var(--jp-border-color2, #e0e0e0);\n",
       "  --background-color: var(--jp-layout-color0, white);\n",
       "  --background-color-row-even: var(--jp-layout-color1, white);\n",
       "  --background-color-row-odd: var(--jp-layout-color2, #eeeeee);\n",
       "}\n",
       "\n",
       "html[theme=\"dark\"],\n",
       "body[data-theme=\"dark\"],\n",
       "body.vscode-dark {\n",
       "  --font-color-primary: rgba(255, 255, 255, 1);\n",
       "  --font-color-secondary: rgba(255, 255, 255, 0.6);\n",
       "  --font-color-accent: rgb(173, 132, 190);\n",
       "  --border-color: #2e2e2e;\n",
       "  --background-color: #111111;\n",
       "  --background-color-row-even: #111111;\n",
       "  --background-color-row-odd: #313131;\n",
       "}\n",
       "\n",
       ".ee {\n",
       "  padding: 1em;\n",
       "  line-height: 1.5em;\n",
       "  min-width: 300px;\n",
       "  max-width: 1200px;\n",
       "  overflow-y: scroll;\n",
       "  max-height: 600px;\n",
       "  border: 1px solid var(--border-color);\n",
       "  font-family: monospace;\n",
       "}\n",
       "\n",
       ".ee li {\n",
       "  list-style-type: none;\n",
       "}\n",
       "\n",
       ".ee ul {\n",
       "  padding-left: 1.5em !important;\n",
       "  margin: 0;\n",
       "}\n",
       "\n",
       ".ee > ul {\n",
       "  padding-left: 0 !important;\n",
       "}\n",
       "\n",
       ".ee-open,\n",
       ".ee-shut {\n",
       "  color: var(--font-color-secondary);\n",
       "  cursor: pointer;\n",
       "  margin: 0;\n",
       "}\n",
       "\n",
       ".ee-open:hover,\n",
       ".ee-shut:hover {\n",
       "  color: var(--font-color-primary);\n",
       "}\n",
       "\n",
       ".ee-k {\n",
       "  color: var(--font-color-accent);\n",
       "  margin-right: 6px;\n",
       "}\n",
       "\n",
       ".ee-v {\n",
       "  color: var(--font-color-primary);\n",
       "}\n",
       "\n",
       ".ee-toggle {\n",
       "  display: none;\n",
       "}\n",
       "\n",
       ".ee-shut + ul {\n",
       "  display: none;\n",
       "}\n",
       "\n",
       ".ee-open + ul {\n",
       "  display: block;\n",
       "}\n",
       "\n",
       ".ee-shut::before {\n",
       "  display: inline-block;\n",
       "  content: \"▼\";\n",
       "  margin-right: 6px;\n",
       "  transform: rotate(-90deg);\n",
       "  transition: transform 0.2s;\n",
       "}\n",
       "\n",
       ".ee-open::before {\n",
       "  transform: rotate(0deg);\n",
       "  display: inline-block;\n",
       "  content: \"▼\";\n",
       "  margin-right: 6px;\n",
       "  transition: transform 0.2s;\n",
       "}\n",
       "</style><div class='ee'><ul><li><label class='ee-shut'>Image (6 bands)<input type='checkbox' class='ee-toggle'></label><ul><li><span class='ee-k'>type:</span><span class='ee-v'>Image</span></li><li><label class='ee-shut'>bands: List (6 elements)<input type='checkbox' class='ee-toggle'></label><ul><li><label class='ee-shut'>0: \"LandTrendr\", double, EPSG:4326<input type='checkbox' class='ee-toggle'></label><ul><li><span class='ee-k'>id:</span><span class='ee-v'>LandTrendr</span></li><li><span class='ee-k'>crs:</span><span class='ee-v'>EPSG:4326</span></li><li><label class='ee-shut'>crs_transform: [1, 0, 0, 0, 1, 0]<input type='checkbox' class='ee-toggle'></label><ul><li><span class='ee-k'>0:</span><span class='ee-v'>1</span></li><li><span class='ee-k'>1:</span><span class='ee-v'>0</span></li><li><span class='ee-k'>2:</span><span class='ee-v'>0</span></li><li><span class='ee-k'>3:</span><span class='ee-v'>0</span></li><li><span class='ee-k'>4:</span><span class='ee-v'>1</span></li><li><span class='ee-k'>5:</span><span class='ee-v'>0</span></li></ul></li><li><label class='ee-shut'>data_type: double<input type='checkbox' class='ee-toggle'></label><ul><li><span class='ee-k'>type:</span><span class='ee-v'>PixelType</span></li><li><span class='ee-k'>dimensions:</span><span class='ee-v'>2</span></li><li><span class='ee-k'>precision:</span><span class='ee-v'>double</span></li></ul></li></ul></li><li><label class='ee-shut'>1: \"ftv_tcb_fit\", double, EPSG:4326<input type='checkbox' class='ee-toggle'></label><ul><li><span class='ee-k'>id:</span><span class='ee-v'>ftv_tcb_fit</span></li><li><span class='ee-k'>crs:</span><span class='ee-v'>EPSG:4326</span></li><li><label class='ee-shut'>crs_transform: [1, 0, 0, 0, 1, 0]<input type='checkbox' class='ee-toggle'></label><ul><li><span class='ee-k'>0:</span><span class='ee-v'>1</span></li><li><span class='ee-k'>1:</span><span class='ee-v'>0</span></li><li><span class='ee-k'>2:</span><span class='ee-v'>0</span></li><li><span class='ee-k'>3:</span><span class='ee-v'>0</span></li><li><span class='ee-k'>4:</span><span class='ee-v'>1</span></li><li><span class='ee-k'>5:</span><span class='ee-v'>0</span></li></ul></li><li><label class='ee-shut'>data_type: double<input type='checkbox' class='ee-toggle'></label><ul><li><span class='ee-k'>type:</span><span class='ee-v'>PixelType</span></li><li><span class='ee-k'>dimensions:</span><span class='ee-v'>1</span></li><li><span class='ee-k'>precision:</span><span class='ee-v'>double</span></li></ul></li></ul></li><li><label class='ee-shut'>2: \"ftv_tcg_fit\", double, EPSG:4326<input type='checkbox' class='ee-toggle'></label><ul><li><span class='ee-k'>id:</span><span class='ee-v'>ftv_tcg_fit</span></li><li><span class='ee-k'>crs:</span><span class='ee-v'>EPSG:4326</span></li><li><label class='ee-shut'>crs_transform: [1, 0, 0, 0, 1, 0]<input type='checkbox' class='ee-toggle'></label><ul><li><span class='ee-k'>0:</span><span class='ee-v'>1</span></li><li><span class='ee-k'>1:</span><span class='ee-v'>0</span></li><li><span class='ee-k'>2:</span><span class='ee-v'>0</span></li><li><span class='ee-k'>3:</span><span class='ee-v'>0</span></li><li><span class='ee-k'>4:</span><span class='ee-v'>1</span></li><li><span class='ee-k'>5:</span><span class='ee-v'>0</span></li></ul></li><li><label class='ee-shut'>data_type: double<input type='checkbox' class='ee-toggle'></label><ul><li><span class='ee-k'>type:</span><span class='ee-v'>PixelType</span></li><li><span class='ee-k'>dimensions:</span><span class='ee-v'>1</span></li><li><span class='ee-k'>precision:</span><span class='ee-v'>double</span></li></ul></li></ul></li><li><label class='ee-shut'>3: \"ftv_tcw_fit\", double, EPSG:4326<input type='checkbox' class='ee-toggle'></label><ul><li><span class='ee-k'>id:</span><span class='ee-v'>ftv_tcw_fit</span></li><li><span class='ee-k'>crs:</span><span class='ee-v'>EPSG:4326</span></li><li><label class='ee-shut'>crs_transform: [1, 0, 0, 0, 1, 0]<input type='checkbox' class='ee-toggle'></label><ul><li><span class='ee-k'>0:</span><span class='ee-v'>1</span></li><li><span class='ee-k'>1:</span><span class='ee-v'>0</span></li><li><span class='ee-k'>2:</span><span class='ee-v'>0</span></li><li><span class='ee-k'>3:</span><span class='ee-v'>0</span></li><li><span class='ee-k'>4:</span><span class='ee-v'>1</span></li><li><span class='ee-k'>5:</span><span class='ee-v'>0</span></li></ul></li><li><label class='ee-shut'>data_type: double<input type='checkbox' class='ee-toggle'></label><ul><li><span class='ee-k'>type:</span><span class='ee-v'>PixelType</span></li><li><span class='ee-k'>dimensions:</span><span class='ee-v'>1</span></li><li><span class='ee-k'>precision:</span><span class='ee-v'>double</span></li></ul></li></ul></li><li><label class='ee-shut'>4: \"ftv_nbr_fit\", double, EPSG:4326<input type='checkbox' class='ee-toggle'></label><ul><li><span class='ee-k'>id:</span><span class='ee-v'>ftv_nbr_fit</span></li><li><span class='ee-k'>crs:</span><span class='ee-v'>EPSG:4326</span></li><li><label class='ee-shut'>crs_transform: [1, 0, 0, 0, 1, 0]<input type='checkbox' class='ee-toggle'></label><ul><li><span class='ee-k'>0:</span><span class='ee-v'>1</span></li><li><span class='ee-k'>1:</span><span class='ee-v'>0</span></li><li><span class='ee-k'>2:</span><span class='ee-v'>0</span></li><li><span class='ee-k'>3:</span><span class='ee-v'>0</span></li><li><span class='ee-k'>4:</span><span class='ee-v'>1</span></li><li><span class='ee-k'>5:</span><span class='ee-v'>0</span></li></ul></li><li><label class='ee-shut'>data_type: double<input type='checkbox' class='ee-toggle'></label><ul><li><span class='ee-k'>type:</span><span class='ee-v'>PixelType</span></li><li><span class='ee-k'>dimensions:</span><span class='ee-v'>1</span></li><li><span class='ee-k'>precision:</span><span class='ee-v'>double</span></li></ul></li></ul></li><li><label class='ee-shut'>5: \"rmse\", double, EPSG:4326<input type='checkbox' class='ee-toggle'></label><ul><li><span class='ee-k'>id:</span><span class='ee-v'>rmse</span></li><li><span class='ee-k'>crs:</span><span class='ee-v'>EPSG:4326</span></li><li><label class='ee-shut'>crs_transform: [1, 0, 0, 0, 1, 0]<input type='checkbox' class='ee-toggle'></label><ul><li><span class='ee-k'>0:</span><span class='ee-v'>1</span></li><li><span class='ee-k'>1:</span><span class='ee-v'>0</span></li><li><span class='ee-k'>2:</span><span class='ee-v'>0</span></li><li><span class='ee-k'>3:</span><span class='ee-v'>0</span></li><li><span class='ee-k'>4:</span><span class='ee-v'>1</span></li><li><span class='ee-k'>5:</span><span class='ee-v'>0</span></li></ul></li><li><label class='ee-shut'>data_type: double<input type='checkbox' class='ee-toggle'></label><ul><li><span class='ee-k'>type:</span><span class='ee-v'>PixelType</span></li><li><span class='ee-k'>precision:</span><span class='ee-v'>double</span></li></ul></li></ul></li></ul></li></ul></li></ul></div><script>function toggleHeader() {\n",
       "    const parent = this.parentElement;\n",
       "    parent.className = parent.className === \"ee-open\" ? \"ee-shut\" : \"ee-open\";\n",
       "}\n",
       "\n",
       "for (let c of document.getElementsByClassName(\"ee-toggle\")) {\n",
       "    c.onclick = toggleHeader;\n",
       "}</script></div>"
      ],
      "text/plain": [
       "<ee.image.Image at 0x2bd7db9da10>"
      ]
     },
     "execution_count": 3,
     "metadata": {},
     "output_type": "execute_result"
    }
   ],
   "source": [
    "# Instantiating LandTrendr object. Note: the LandTrendr algorithm will be run greedily on GEE (ie the script will immediately request to run the algorithm on GEE as soon as it has all the collections built unless lt.run=False).\n",
    "lt = LandTrendr(**lt_params)\n",
    "lt.data"
   ]
  },
  {
   "cell_type": "code",
   "execution_count": 4,
   "id": "fbea54f4-1132-4381-8b0a-8e4cc0e7d6a7",
   "metadata": {},
   "outputs": [
    {
     "data": {
      "text/html": [
       "\n",
       "            <style>\n",
       "                .geemap-dark {\n",
       "                    --jp-widgets-color: white;\n",
       "                    --jp-widgets-label-color: white;\n",
       "                    --jp-ui-font-color1: white;\n",
       "                    --jp-layout-color2: #454545;\n",
       "                    background-color: #383838;\n",
       "                }\n",
       "                    \n",
       "                .geemap-dark .jupyter-button {\n",
       "                    --jp-layout-color3: #383838;\n",
       "                }\n",
       "                \n",
       "                .geemap-colab {\n",
       "                    background-color: var(--colab-primary-surface-color, white);\n",
       "                }\n",
       "                    \n",
       "                .geemap-colab .jupyter-button {\n",
       "                    --jp-layout-color3: var(--colab-primary-surface-color, white);\n",
       "                }\n",
       "            </style>\n",
       "            "
      ],
      "text/plain": [
       "<IPython.core.display.HTML object>"
      ]
     },
     "metadata": {},
     "output_type": "display_data"
    },
    {
     "data": {
      "text/plain": [
       "(<ltgee.landtrendr.LandsatComposite at 0x2bd7dba86d0>,\n",
       " <ltgee.landtrendr.LtCollection at 0x2bd7dc17210>,\n",
       " <ee.imagecollection.ImageCollection at 0x2bd7ddbb590>)"
      ]
     },
     "execution_count": 4,
     "metadata": {},
     "output_type": "execute_result"
    }
   ],
   "source": [
    "# You may access the collections using the properties below\n",
    "lt.lt_collection.sr_collection, lt.lt_collection, lt.lt_collection.sr_collection.clear_pixel_count_collection"
   ]
  },
  {
   "cell_type": "code",
   "execution_count": 5,
   "id": "e835f99e-0ef0-4b0a-83ef-1d4390783518",
   "metadata": {},
   "outputs": [
    {
     "data": {
      "text/html": [
       "\n",
       "            <style>\n",
       "                .geemap-dark {\n",
       "                    --jp-widgets-color: white;\n",
       "                    --jp-widgets-label-color: white;\n",
       "                    --jp-ui-font-color1: white;\n",
       "                    --jp-layout-color2: #454545;\n",
       "                    background-color: #383838;\n",
       "                }\n",
       "                    \n",
       "                .geemap-dark .jupyter-button {\n",
       "                    --jp-layout-color3: #383838;\n",
       "                }\n",
       "                \n",
       "                .geemap-colab {\n",
       "                    background-color: var(--colab-primary-surface-color, white);\n",
       "                }\n",
       "                    \n",
       "                .geemap-colab .jupyter-button {\n",
       "                    --jp-layout-color3: var(--colab-primary-surface-color, white);\n",
       "                }\n",
       "            </style>\n",
       "            "
      ],
      "text/plain": [
       "<IPython.core.display.HTML object>"
      ]
     },
     "metadata": {},
     "output_type": "display_data"
    },
    {
     "data": {
      "application/vnd.jupyter.widget-view+json": {
       "model_id": "c7978b4388fe460387a648ab1916b8f4",
       "version_major": 2,
       "version_minor": 0
      },
      "text/plain": [
       "Map(center=[44.661026124368775, -122.31983825467653], controls=(WidgetControl(options=['position', 'transparen…"
      ]
     },
     "execution_count": 5,
     "metadata": {},
     "output_type": "execute_result"
    }
   ],
   "source": [
    "# Example 1: Displaying images from Landtrendr\n",
    "\n",
    "lt_tcb = lt.data.select('ftv_nbr_fit').clip(composite_params['area_of_interest'])\n",
    "map = geemap.Map()\n",
    "map.centerObject(composite_params['area_of_interest'], 13)\n",
    "map.addLayer(lt_tcb, {}, 'lt_nbr')\n",
    "map.addLayer(composite_params['area_of_interest'], {}, 'area_of_interest')\n",
    "map"
   ]
  },
  {
   "cell_type": "code",
   "execution_count": 6,
   "id": "f526c669-6e92-4314-a2c0-30f00e731307",
   "metadata": {
    "scrolled": true
   },
   "outputs": [
    {
     "data": {
      "text/html": [
       "\n",
       "            <style>\n",
       "                .geemap-dark {\n",
       "                    --jp-widgets-color: white;\n",
       "                    --jp-widgets-label-color: white;\n",
       "                    --jp-ui-font-color1: white;\n",
       "                    --jp-layout-color2: #454545;\n",
       "                    background-color: #383838;\n",
       "                }\n",
       "                    \n",
       "                .geemap-dark .jupyter-button {\n",
       "                    --jp-layout-color3: #383838;\n",
       "                }\n",
       "                \n",
       "                .geemap-colab {\n",
       "                    background-color: var(--colab-primary-surface-color, white);\n",
       "                }\n",
       "                    \n",
       "                .geemap-colab .jupyter-button {\n",
       "                    --jp-layout-color3: var(--colab-primary-surface-color, white);\n",
       "                }\n",
       "            </style>\n",
       "            "
      ],
      "text/plain": [
       "<IPython.core.display.HTML object>"
      ]
     },
     "metadata": {},
     "output_type": "display_data"
    },
    {
     "data": {
      "application/vnd.jupyter.widget-view+json": {
       "model_id": "9de5db71e7c445eca6edc5813ba0c0fe",
       "version_major": 2,
       "version_minor": 0
      },
      "text/plain": [
       "Map(center=[44.661026124368775, -122.31983825467653], controls=(WidgetControl(options=['position', 'transparen…"
      ]
     },
     "execution_count": 6,
     "metadata": {},
     "output_type": "execute_result"
    }
   ],
   "source": [
    "# Example 2: Displaying collection to band stack\n",
    "\n",
    "# Note: lt_collection outside of the class can be passed in\n",
    "collection_to_band_stack = lt.collection_to_band_stack(lt.lt_collection, start_date=composite_params[\"start_date\"],  end_date=composite_params[\"end_date\"])\n",
    "\n",
    "map = geemap.Map()\n",
    "map.centerObject(composite_params['area_of_interest'], 13)\n",
    "map.addLayer(collection_to_band_stack, {\"bands\":[\"2000\"],\"min\":-100,\"max\":1000,\"palette\":[\"ff2f0d\",\"fff825\",\"0ab308\"]})\n",
    "map.addLayer(composite_params['area_of_interest'], {}, 'area_of_interest')\n",
    "map"
   ]
  },
  {
   "cell_type": "code",
   "execution_count": 7,
   "id": "12caa989-73dd-4e4f-a6d6-d5dcf8b6e18c",
   "metadata": {},
   "outputs": [
    {
     "data": {
      "text/html": [
       "\n",
       "            <style>\n",
       "                .geemap-dark {\n",
       "                    --jp-widgets-color: white;\n",
       "                    --jp-widgets-label-color: white;\n",
       "                    --jp-ui-font-color1: white;\n",
       "                    --jp-layout-color2: #454545;\n",
       "                    background-color: #383838;\n",
       "                }\n",
       "                    \n",
       "                .geemap-dark .jupyter-button {\n",
       "                    --jp-layout-color3: #383838;\n",
       "                }\n",
       "                \n",
       "                .geemap-colab {\n",
       "                    background-color: var(--colab-primary-surface-color, white);\n",
       "                }\n",
       "                    \n",
       "                .geemap-colab .jupyter-button {\n",
       "                    --jp-layout-color3: var(--colab-primary-surface-color, white);\n",
       "                }\n",
       "            </style>\n",
       "            "
      ],
      "text/plain": [
       "<IPython.core.display.HTML object>"
      ]
     },
     "metadata": {},
     "output_type": "display_data"
    },
    {
     "data": {
      "application/vnd.jupyter.widget-view+json": {
       "model_id": "e7001dfd5a0e4b84aea769e309a4a2db",
       "version_major": 2,
       "version_minor": 0
      },
      "text/plain": [
       "Map(center=[44.661026124368775, -122.31983825467653], controls=(WidgetControl(options=['position', 'transparen…"
      ]
     },
     "execution_count": 7,
     "metadata": {},
     "output_type": "execute_result"
    }
   ],
   "source": [
    "# Example 3: Displaying change data\n",
    "# Note: Change params does not require all keys to be present and will only process what is passed in.\n",
    "\n",
    "change_params = {\n",
    "                    'delta': 'loss',\n",
    "                    'sort': 'greatest',\n",
    "                    'years': {'start': composite_params[\"start_date\"].year + 1, 'end': composite_params[\"end_date\"].year},\n",
    "                    'mag': {'value': 200, 'operator': '>' },\n",
    "                    'dur': {'value': 4, 'operator': '<'},\n",
    "                    'preval': {'value': 300, 'operator': '>'},\n",
    "                    'mmu': {'value': 5}\n",
    "                }\n",
    "change_image = lt.get_change_map(change_params)\n",
    "\n",
    "palette = ['#9400D3', '#4B0082', '#0000FF', '#00FF00', '#FFFF00', '#FF7F00', '#FF0000'];\n",
    "yod_vis_params = {\n",
    "  'min': change_params['years']['start'],\n",
    "  'max': change_params['years']['end'],\n",
    "  'palette': palette\n",
    "}\n",
    "mag_vis_params = {\n",
    "  'min': 200,\n",
    "  'max': 800,\n",
    "  'palette': palette\n",
    "}\n",
    "\n",
    "\n",
    "map = geemap.Map()\n",
    "map.centerObject(composite_params['area_of_interest'], 13)\n",
    "map.addLayer(change_image.select(['mag']), yod_vis_params, 'Magnitude of Change')\n",
    "map.addLayer(change_image.select(['yod']), mag_vis_params, 'Year of Detection')\n",
    "map.addLayer(composite_params['area_of_interest'], {}, 'area_of_interest')\n",
    "map"
   ]
  },
  {
   "cell_type": "code",
   "execution_count": 8,
   "id": "92f250c9-d408-440f-a0f1-67e23c002a5e",
   "metadata": {},
   "outputs": [
    {
     "data": {
      "text/html": [
       "\n",
       "            <style>\n",
       "                .geemap-dark {\n",
       "                    --jp-widgets-color: white;\n",
       "                    --jp-widgets-label-color: white;\n",
       "                    --jp-ui-font-color1: white;\n",
       "                    --jp-layout-color2: #454545;\n",
       "                    background-color: #383838;\n",
       "                }\n",
       "                    \n",
       "                .geemap-dark .jupyter-button {\n",
       "                    --jp-layout-color3: #383838;\n",
       "                }\n",
       "                \n",
       "                .geemap-colab {\n",
       "                    background-color: var(--colab-primary-surface-color, white);\n",
       "                }\n",
       "                    \n",
       "                .geemap-colab .jupyter-button {\n",
       "                    --jp-layout-color3: var(--colab-primary-surface-color, white);\n",
       "                }\n",
       "            </style>\n",
       "            "
      ],
      "text/plain": [
       "<IPython.core.display.HTML object>"
      ]
     },
     "metadata": {},
     "output_type": "display_data"
    },
    {
     "data": {
      "application/vnd.jupyter.widget-view+json": {
       "model_id": "c9212eb000e944b7bd7dbfd8e4f761b3",
       "version_major": 2,
       "version_minor": 0
      },
      "text/plain": [
       "Map(center=[44.661026124368775, -122.31983825467653], controls=(WidgetControl(options=['position', 'transparen…"
      ]
     },
     "execution_count": 8,
     "metadata": {},
     "output_type": "execute_result"
    }
   ],
   "source": [
    "# Example 4: Displaying segment data\n",
    "# In the top right corner hover over the wrench and click the 'i' to use the inspector. Click any point in the aoi to see values.\n",
    "\n",
    "seg_info = lt.get_segment_data('all', index_flip=True).clip(composite_params['area_of_interest'])\n",
    "map = geemap.Map()\n",
    "map.centerObject(composite_params['area_of_interest'], 13)\n",
    "map.addLayer(seg_info, {}, 'seg_info')\n",
    "map.addLayer(composite_params['area_of_interest'], {}, 'area_of_interest')\n",
    "map"
   ]
  },
  {
   "cell_type": "code",
   "execution_count": 9,
   "id": "af16e2e6-8944-41d4-8f75-1d4fc2a90b43",
   "metadata": {
    "scrolled": true
   },
   "outputs": [
    {
     "data": {
      "text/html": [
       "\n",
       "            <style>\n",
       "                .geemap-dark {\n",
       "                    --jp-widgets-color: white;\n",
       "                    --jp-widgets-label-color: white;\n",
       "                    --jp-ui-font-color1: white;\n",
       "                    --jp-layout-color2: #454545;\n",
       "                    background-color: #383838;\n",
       "                }\n",
       "                    \n",
       "                .geemap-dark .jupyter-button {\n",
       "                    --jp-layout-color3: #383838;\n",
       "                }\n",
       "                \n",
       "                .geemap-colab {\n",
       "                    background-color: var(--colab-primary-surface-color, white);\n",
       "                }\n",
       "                    \n",
       "                .geemap-colab .jupyter-button {\n",
       "                    --jp-layout-color3: var(--colab-primary-surface-color, white);\n",
       "                }\n",
       "            </style>\n",
       "            "
      ],
      "text/plain": [
       "<IPython.core.display.HTML object>"
      ]
     },
     "metadata": {},
     "output_type": "display_data"
    },
    {
     "data": {
      "application/vnd.jupyter.widget-view+json": {
       "model_id": "fc2e0ff756cb48c08ef1f547b7c79568",
       "version_major": 2,
       "version_minor": 0
      },
      "text/plain": [
       "Map(center=[44.661026124368775, -122.31983825467653], controls=(WidgetControl(options=['position', 'transparen…"
      ]
     },
     "execution_count": 9,
     "metadata": {},
     "output_type": "execute_result"
    }
   ],
   "source": [
    "# Example 5: Displaying rgb image\n",
    "\n",
    "vis_params = {\n",
    "  'min': [604, -49, -2245],\n",
    "  'max': [5592, 3147, 843],\n",
    "  'gamma': [1, 1, 1]\n",
    "}\n",
    "\n",
    "lt_rgb = lt.get_fitted_rgb_col(['TCB', 'TCG', 'TCW'], vis_params, composite_params[\"start_date\"], composite_params[\"end_date\"])\n",
    "map = geemap.Map()\n",
    "map.centerObject(composite_params['area_of_interest'], 13)\n",
    "map.addLayer(lt_rgb, {}, 'lt_rgb')\n",
    "map.addLayer(composite_params['area_of_interest'], {}, 'area_of_interest')\n",
    "map"
   ]
  },
  {
   "cell_type": "code",
   "execution_count": 10,
   "id": "77fda100-3cab-4c86-966f-6d1e622f47cd",
   "metadata": {},
   "outputs": [
    {
     "data": {
      "text/html": [
       "\n",
       "            <style>\n",
       "                .geemap-dark {\n",
       "                    --jp-widgets-color: white;\n",
       "                    --jp-widgets-label-color: white;\n",
       "                    --jp-ui-font-color1: white;\n",
       "                    --jp-layout-color2: #454545;\n",
       "                    background-color: #383838;\n",
       "                }\n",
       "                    \n",
       "                .geemap-dark .jupyter-button {\n",
       "                    --jp-layout-color3: #383838;\n",
       "                }\n",
       "                \n",
       "                .geemap-colab {\n",
       "                    background-color: var(--colab-primary-surface-color, white);\n",
       "                }\n",
       "                    \n",
       "                .geemap-colab .jupyter-button {\n",
       "                    --jp-layout-color3: var(--colab-primary-surface-color, white);\n",
       "                }\n",
       "            </style>\n",
       "            "
      ],
      "text/plain": [
       "<IPython.core.display.HTML object>"
      ]
     },
     "metadata": {},
     "output_type": "display_data"
    },
    {
     "data": {
      "text/plain": [
       "'https://earthengine.googleapis.com/v1/projects/ee-myscon/videoThumbnails/ff4ab520d0f64c510d6fdb9c0791d545-b2640d2f8a3533c917795b0d2e1b1c07:getPixels'"
      ]
     },
     "execution_count": 10,
     "metadata": {},
     "output_type": "execute_result"
    }
   ],
   "source": [
    "# Example 6: Creating a gif using data from landtrendr\n",
    "\n",
    "vid_params = {\n",
    "  'crs': 'EPSG:3857',\n",
    "  'dimensions': 300,\n",
    "  'region': composite_params['area_of_interest'],\n",
    "  'framesPerSecond': 8\n",
    "}\n",
    "lt_rgb.getVideoThumbURL(vid_params)"
   ]
  },
  {
   "cell_type": "code",
   "execution_count": null,
   "id": "6a234bfd-b9c6-4a94-990c-48df53bab242",
   "metadata": {},
   "outputs": [],
   "source": []
  }
 ],
 "metadata": {
  "kernelspec": {
   "display_name": "Python 3 (ipykernel)",
   "language": "python",
   "name": "python3"
  },
  "language_info": {
   "codemirror_mode": {
    "name": "ipython",
    "version": 3
   },
   "file_extension": ".py",
   "mimetype": "text/x-python",
   "name": "python",
   "nbconvert_exporter": "python",
   "pygments_lexer": "ipython3",
   "version": "3.11.7"
  }
 },
 "nbformat": 4,
 "nbformat_minor": 5
}
