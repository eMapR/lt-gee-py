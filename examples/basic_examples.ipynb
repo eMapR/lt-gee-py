{
 "cells": [
  {
   "cell_type": "code",
   "execution_count": null,
   "id": "b058a77b-2709-4cb1-be39-6286a5f776aa",
   "metadata": {},
   "outputs": [],
   "source": [
    "from ltgee import LandTrendr\n",
    "from datetime import date\n",
    "import geemap\n",
    "import ee\n",
    "import os\n",
    "\n",
    "# Authenticate with Google Earth Engine before using. See link below for more information:\n",
    "# https://developers.google.com/earth-engine/guides/auth\n",
    "\n",
    "# add in your own project name\n",
    "ee.Initialize()"
   ]
  },
  {
   "cell_type": "code",
   "execution_count": null,
   "id": "3c8fed3e-8031-4874-8cc2-341c492bb6ab",
   "metadata": {},
   "outputs": [],
   "source": [
    "# Example arguments to pass to the LandTrendr class. See docstring of LandTrendr for more information\n",
    "lt_params = {\n",
    "    \"start_date\": date(1985, 6,1),\n",
    "    \"end_date\": date(2017, 9,1),\n",
    "    \"index\": 'NBR',\n",
    "    \"ftv_list\": ['TCB', 'TCG', 'TCW', 'NBR'],\n",
    "    \"mask_labels\": ['cloud', 'shadow', 'snow', 'water'],\n",
    "\n",
    "    \"area_of_interest\": ee.Geometry({\n",
    "        'type': 'Polygon',\n",
    "        'coordinates': [\n",
    "            [\n",
    "                [-122.37202331327023,44.62585686599272],\n",
    "                [-122.26765319608273,44.62585686599272],\n",
    "                [-122.26765319608273,44.696185837887384],\n",
    "                [-122.37202331327023,44.696185837887384],\n",
    "                [-122.37202331327023,44.62585686599272],\n",
    "                ]\n",
    "            ]\n",
    "    }),\n",
    "    \"run_params\": {\n",
    "            \"maxSegments\": 6,\n",
    "            \"spikeThreshold\": 0.9,\n",
    "            \"vertexCountOvershoot\":  3,\n",
    "            \"preventOneYearRecovery\":  True,\n",
    "            \"recoveryThreshold\":  0.25,\n",
    "            \"pvalThreshold\":  .05,\n",
    "            \"bestModelProportion\":  0.75,\n",
    "            \"minObservationsNeeded\": 6,\n",
    "        }\n",
    "}"
   ]
  },
  {
   "cell_type": "code",
   "execution_count": null,
   "id": "037de620-3cf7-4948-8622-dd1b88b63e51",
   "metadata": {
    "scrolled": true
   },
   "outputs": [],
   "source": [
    "# Instantiating LandTrendr object. Note: the LandTrendr algorithm will be run greedily on GEE (ie the script will immediately request to run the algorithm on GEE as soon as it has all the collections built unless run=False).\n",
    "lt = LandTrendr(**lt_params)\n",
    "lt.data"
   ]
  },
  {
   "cell_type": "code",
   "execution_count": null,
   "id": "a3e0919c-d280-420c-b844-88c360f0bd6a",
   "metadata": {},
   "outputs": [],
   "source": [
    "# Instantiating Landtrendr class with debug parameter as True (default: False). Additional properties will be available using this method.\n",
    "lt_debug = LandTrendr(debug=True, **lt_params)\n",
    "lt_debug.sr_collection, lt_debug.lt_collection, lt_debug.clear_pixel_count_collection"
   ]
  },
  {
   "cell_type": "code",
   "execution_count": null,
   "id": "9c78dd4a",
   "metadata": {},
   "outputs": [],
   "source": [
    "# The LandTrendr algorithm will NOT be run unless the run(debug=False) method is called after.\n",
    "# Note: The previously built collections will be used to run the algorithm unless class attributes have changed.\n",
    "lt_debug.run()\n",
    "lt_debug.data"
   ]
  },
  {
   "cell_type": "code",
   "execution_count": null,
   "id": "442d466b-da3b-4058-800c-dae540aaf38c",
   "metadata": {},
   "outputs": [],
   "source": [
    "# You may reset different attributes, however, you must rerun LandTrendr using the run method to get the updated lt data.\n",
    "lt_debug.ftv_list = ['B7']\n",
    "lt_debug.run(debug=True)\n",
    "lt_debug.run()\n",
    "lt_debug.data, lt_debug.sr_collection, lt_debug.lt_collection, lt_debug.clear_pixel_count_collection"
   ]
  },
  {
   "cell_type": "code",
   "execution_count": null,
   "id": "fbea54f4-1132-4381-8b0a-8e4cc0e7d6a7",
   "metadata": {},
   "outputs": [],
   "source": [
    "# You may call lt.run(debug=True) to rebuild the collections and collect them in attributes at any time.\n",
    "# Note: Keep in mind the LandTrendr algorithm will not be run again unless lt.run(debug=False) is called.\n",
    "lt.run(debug=True)\n",
    "lt.sr_collection, lt.lt_collection, lt.clear_pixel_count_collection"
   ]
  },
  {
   "cell_type": "code",
   "execution_count": null,
   "id": "1927dcfc-c08e-41bb-9920-ca235cedfde2",
   "metadata": {},
   "outputs": [],
   "source": [
    "# Displaying collection information in jupyter notebook\n",
    "# Some data requires some pre-processing. There are some methods for that (see below/documentation).\n",
    "lt.lt_collection"
   ]
  },
  {
   "cell_type": "code",
   "execution_count": null,
   "id": "e835f99e-0ef0-4b0a-83ef-1d4390783518",
   "metadata": {},
   "outputs": [],
   "source": [
    "# Example 1: Displaying images from Landtrendr\n",
    "\n",
    "lt_tcb = lt.data.select('ftv_NBR_fit').clip(lt_params['aoi'])\n",
    "map = geemap.Map()\n",
    "map.centerObject(lt_params['aoi'], 13)\n",
    "map.addLayer(lt_tcb, {}, 'lt_nbr')\n",
    "map.addLayer(lt_params['aoi'], {}, 'aoi')\n",
    "map"
   ]
  },
  {
   "cell_type": "code",
   "execution_count": null,
   "id": "f526c669-6e92-4314-a2c0-30f00e731307",
   "metadata": {},
   "outputs": [],
   "source": [
    "# Example 2: Displaying collection to band stack\n",
    "\n",
    "# Note: lt_collection is already transformed and saved using debug=True\n",
    "collection_to_band_stack = lt.collection_to_band_stack(lt.lt_collection)\n",
    "\n",
    "map = geemap.Map()\n",
    "map.centerObject(lt_params['aoi'], 13)\n",
    "# You know I wished I picked a more interesting area...maybe zoom out\n",
    "map.addLayer(collection_to_band_stack, {\"bands\":[\"2000\"],\"min\":-100,\"max\":1000,\"palette\":[\"ff2f0d\",\"fff825\",\"0ab308\"]})\n",
    "map.addLayer(lt_params['aoi'], {}, 'aoi')\n",
    "map"
   ]
  },
  {
   "cell_type": "code",
   "execution_count": null,
   "id": "12caa989-73dd-4e4f-a6d6-d5dcf8b6e18c",
   "metadata": {},
   "outputs": [],
   "source": [
    "# Example 3: Displaying change data\n",
    "# Note: Change params does not require all keys to be present and will only process what is passed in.\n",
    "\n",
    "change_params = {\n",
    "                    'delta': 'loss',\n",
    "                    'sort': 'greatest',\n",
    "                    'years': {'start': lt_params[\"start_date\"].year + 1, 'end': lt_params[\"end_date\"].year},\n",
    "                    'mag': {'value': 200, 'operator': '>' },\n",
    "                    'dur': {'value': 4, 'operator': '<'},\n",
    "                    'preval': {'value': 300, 'operator': '>'},\n",
    "                    'mmu': {'value': 5}\n",
    "                }\n",
    "change_image = lt.get_change_map(change_params)\n",
    "\n",
    "palette = ['#9400D3', '#4B0082', '#0000FF', '#00FF00', '#FFFF00', '#FF7F00', '#FF0000'];\n",
    "yod_vis_params = {\n",
    "  'min': change_params['years']['start'],\n",
    "  'max': change_params['years']['end'],\n",
    "  'palette': palette\n",
    "}\n",
    "mag_vis_params = {\n",
    "  'min': 200,\n",
    "  'max': 800,\n",
    "  'palette': palette\n",
    "}\n",
    "\n",
    "\n",
    "map = geemap.Map()\n",
    "map.centerObject(lt_params['aoi'], 13)\n",
    "map.addLayer(change_image.select(['mag']), yod_vis_params, 'Magnitude of Change')\n",
    "map.addLayer(change_image.select(['yod']), mag_vis_params, 'Year of Detection')\n",
    "map.addLayer(lt_params['aoi'], {}, 'aoi')\n",
    "map"
   ]
  },
  {
   "cell_type": "code",
   "execution_count": null,
   "id": "92f250c9-d408-440f-a0f1-67e23c002a5e",
   "metadata": {},
   "outputs": [],
   "source": [
    "# Example 4: Displaying segment data\n",
    "# In the top right corner hover over the wrench and click the 'i' to use the inspector. Click any point in the aoi to see values.\n",
    "\n",
    "seg_info = lt.get_segment_data(lt_params['index'], 'all').clip(lt_params['aoi'])\n",
    "map = geemap.Map()\n",
    "map.centerObject(lt_params['aoi'], 13)\n",
    "map.addLayer(seg_info, {}, 'seg_info')\n",
    "map.addLayer(lt_params['aoi'], {}, 'aoi')\n",
    "map"
   ]
  },
  {
   "cell_type": "code",
   "execution_count": null,
   "id": "af16e2e6-8944-41d4-8f75-1d4fc2a90b43",
   "metadata": {},
   "outputs": [],
   "source": [
    "# Example 5: Displaying rgb image\n",
    "\n",
    "vis_params = {\n",
    "  'min': [604, -49, -2245],\n",
    "  'max': [5592, 3147, 843],\n",
    "  'gamma': [1, 1, 1]\n",
    "}\n",
    "\n",
    "\n",
    "lt_rgb = lt.get_fitted_rgb_col(['TCB', 'TCG', 'TCW'], vis_params)\n",
    "map = geemap.Map()\n",
    "map.centerObject(lt_params['aoi'], 13)\n",
    "map.addLayer(lt_rgb, {}, 'lt_rgb')\n",
    "map.addLayer(lt_params['aoi'], {}, 'aoi')\n",
    "map"
   ]
  },
  {
   "cell_type": "code",
   "execution_count": null,
   "id": "77fda100-3cab-4c86-966f-6d1e622f47cd",
   "metadata": {},
   "outputs": [],
   "source": [
    "# Example 6: Creating a gif using data from landtrendr\n",
    "\n",
    "vid_params = {\n",
    "  'crs': 'EPSG:3857',\n",
    "  'dimensions': 300,\n",
    "  'region': lt_params['aoi'],\n",
    "  'framesPerSecond': 8\n",
    "}\n",
    "lt_rgb.getVideoThumbURL(vid_params)\n",
    "lt_rgb"
   ]
  }
 ],
 "metadata": {
  "kernelspec": {
   "display_name": "Python 3 (ipykernel)",
   "language": "python",
   "name": "python3"
  },
  "language_info": {
   "codemirror_mode": {
    "name": "ipython",
    "version": 3
   },
   "file_extension": ".py",
   "mimetype": "text/x-python",
   "name": "python",
   "nbconvert_exporter": "python",
   "pygments_lexer": "ipython3",
   "version": "3.11.5"
  }
 },
 "nbformat": 4,
 "nbformat_minor": 5
}
