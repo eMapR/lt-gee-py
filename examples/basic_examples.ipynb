{
 "cells": [
  {
   "cell_type": "code",
   "execution_count": 1,
   "id": "b058a77b-2709-4cb1-be39-6286a5f776aa",
   "metadata": {},
   "outputs": [],
   "source": [
    "from ltgee import LandTrendr, LandsatComposite, LtCollection\n",
    "from datetime import date\n",
    "import geemap\n",
    "import ee\n",
    "\n",
    "# Authenticate with Google Earth Engine before using. See link below for more information:\n",
    "# https://developers.google.com/earth-engine/guides/auth\n",
    "\n",
    "# add in your own project name\n",
    "ee.Initialize()"
   ]
  },
  {
   "cell_type": "code",
   "execution_count": 2,
   "id": "3c8fed3e-8031-4874-8cc2-341c492bb6ab",
   "metadata": {},
   "outputs": [
    {
     "data": {
      "text/html": [
       "\n",
       "            <style>\n",
       "                .geemap-dark {\n",
       "                    --jp-widgets-color: white;\n",
       "                    --jp-widgets-label-color: white;\n",
       "                    --jp-ui-font-color1: white;\n",
       "                    --jp-layout-color2: #454545;\n",
       "                    background-color: #383838;\n",
       "                }\n",
       "                    \n",
       "                .geemap-dark .jupyter-button {\n",
       "                    --jp-layout-color3: #383838;\n",
       "                }\n",
       "                \n",
       "                .geemap-colab {\n",
       "                    background-color: var(--colab-primary-surface-color, white);\n",
       "                }\n",
       "                    \n",
       "                .geemap-colab .jupyter-button {\n",
       "                    --jp-layout-color3: var(--colab-primary-surface-color, white);\n",
       "                }\n",
       "            </style>\n",
       "            "
      ],
      "text/plain": [
       "<IPython.core.display.HTML object>"
      ]
     },
     "metadata": {},
     "output_type": "display_data"
    }
   ],
   "source": [
    "# Example arguments to pass to the LandTrendr class. See docstring of LandTrendr for more information'\n",
    "composite_params = {\n",
    "    \"start_date\": date(1985, 6,1),\n",
    "    \"end_date\": date(2017, 9,1),\n",
    "    \"area_of_interest\": ee.Geometry({\n",
    "        'type': 'Polygon',\n",
    "        'coordinates': [\n",
    "            [\n",
    "                [-122.37202331327023,44.62585686599272],\n",
    "                [-122.26765319608273,44.62585686599272],\n",
    "                [-122.26765319608273,44.696185837887384],\n",
    "                [-122.37202331327023,44.696185837887384],\n",
    "                [-122.37202331327023,44.62585686599272],\n",
    "                ]\n",
    "            ]\n",
    "    }),\n",
    "    \"mask_labels\": ['cloud', 'shadow', 'snow', 'water'],\n",
    "    \"debug\": True\n",
    "}\n",
    "lt_collection_params = {\n",
    "        \"sr_collection\": LandsatComposite(**composite_params),\n",
    "        # \"sr_collection\": composite_params, # - you may also just pass in your own collection or the params directly\n",
    "        \"index\": 'NBR',\n",
    "        \"ftv_list\": ['TCB', 'TCG', 'TCW', 'NBR'],\n",
    "}\n",
    "lt_params = {\n",
    "    \"lt_collection\": LtCollection(**lt_collection_params),\n",
    "    # \"lt_collection\": lt_collection_params, # - you may also just pass in your own collection or the params directly\n",
    "    \"run_params\": {\n",
    "            \"maxSegments\": 6,\n",
    "            \"spikeThreshold\": 0.9,\n",
    "            \"vertexCountOvershoot\":  3,\n",
    "            \"preventOneYearRecovery\":  True,\n",
    "            \"recoveryThreshold\":  0.25,\n",
    "            \"pvalThreshold\":  .05,\n",
    "            \"bestModelProportion\":  0.75,\n",
    "            \"minObservationsNeeded\": 6,\n",
    "        }\n",
    "}"
   ]
  },
  {
   "cell_type": "code",
   "execution_count": 3,
   "id": "037de620-3cf7-4948-8622-dd1b88b63e51",
   "metadata": {
    "scrolled": true
   },
   "outputs": [
    {
     "data": {
      "text/html": [
       "\n",
       "            <style>\n",
       "                .geemap-dark {\n",
       "                    --jp-widgets-color: white;\n",
       "                    --jp-widgets-label-color: white;\n",
       "                    --jp-ui-font-color1: white;\n",
       "                    --jp-layout-color2: #454545;\n",
       "                    background-color: #383838;\n",
       "                }\n",
       "                    \n",
       "                .geemap-dark .jupyter-button {\n",
       "                    --jp-layout-color3: #383838;\n",
       "                }\n",
       "                \n",
       "                .geemap-colab {\n",
       "                    background-color: var(--colab-primary-surface-color, white);\n",
       "                }\n",
       "                    \n",
       "                .geemap-colab .jupyter-button {\n",
       "                    --jp-layout-color3: var(--colab-primary-surface-color, white);\n",
       "                }\n",
       "            </style>\n",
       "            "
      ],
      "text/plain": [
       "<IPython.core.display.HTML object>"
      ]
     },
     "metadata": {},
     "output_type": "display_data"
    },
    {
     "data": {
      "text/plain": [
       "<ltgee.landtrendr.LandTrendr at 0x22e84b4acf0>"
      ]
     },
     "execution_count": 3,
     "metadata": {},
     "output_type": "execute_result"
    }
   ],
   "source": [
    "# Instantiating LandTrendr object. Note: the LandTrendr algorithm will be run greedily on GEE (ie the script will immediately request to run the algorithm on GEE as soon as it has all the collections built unless lt.run=False).\n",
    "lt = LandTrendr(**lt_params)\n",
    "lt"
   ]
  },
  {
   "cell_type": "code",
   "execution_count": 4,
   "id": "fbea54f4-1132-4381-8b0a-8e4cc0e7d6a7",
   "metadata": {},
   "outputs": [
    {
     "data": {
      "text/html": [
       "\n",
       "            <style>\n",
       "                .geemap-dark {\n",
       "                    --jp-widgets-color: white;\n",
       "                    --jp-widgets-label-color: white;\n",
       "                    --jp-ui-font-color1: white;\n",
       "                    --jp-layout-color2: #454545;\n",
       "                    background-color: #383838;\n",
       "                }\n",
       "                    \n",
       "                .geemap-dark .jupyter-button {\n",
       "                    --jp-layout-color3: #383838;\n",
       "                }\n",
       "                \n",
       "                .geemap-colab {\n",
       "                    background-color: var(--colab-primary-surface-color, white);\n",
       "                }\n",
       "                    \n",
       "                .geemap-colab .jupyter-button {\n",
       "                    --jp-layout-color3: var(--colab-primary-surface-color, white);\n",
       "                }\n",
       "            </style>\n",
       "            "
      ],
      "text/plain": [
       "<IPython.core.display.HTML object>"
      ]
     },
     "metadata": {},
     "output_type": "display_data"
    },
    {
     "data": {
      "text/plain": [
       "(<ltgee.landtrendr.LandsatComposite at 0x22e84738140>,\n",
       " <ltgee.landtrendr.LtCollection at 0x22effa16330>,\n",
       " <ee.imagecollection.ImageCollection at 0x22e84b4de20>)"
      ]
     },
     "execution_count": 4,
     "metadata": {},
     "output_type": "execute_result"
    }
   ],
   "source": [
    "# You may access the collections using the properties below\n",
    "lt.lt_collection.sr_collection, lt.lt_collection, lt.lt_collection.sr_collection.clear_pixel_count_collection"
   ]
  },
  {
   "cell_type": "code",
   "execution_count": 5,
   "id": "e835f99e-0ef0-4b0a-83ef-1d4390783518",
   "metadata": {},
   "outputs": [
    {
     "data": {
      "text/html": [
       "\n",
       "            <style>\n",
       "                .geemap-dark {\n",
       "                    --jp-widgets-color: white;\n",
       "                    --jp-widgets-label-color: white;\n",
       "                    --jp-ui-font-color1: white;\n",
       "                    --jp-layout-color2: #454545;\n",
       "                    background-color: #383838;\n",
       "                }\n",
       "                    \n",
       "                .geemap-dark .jupyter-button {\n",
       "                    --jp-layout-color3: #383838;\n",
       "                }\n",
       "                \n",
       "                .geemap-colab {\n",
       "                    background-color: var(--colab-primary-surface-color, white);\n",
       "                }\n",
       "                    \n",
       "                .geemap-colab .jupyter-button {\n",
       "                    --jp-layout-color3: var(--colab-primary-surface-color, white);\n",
       "                }\n",
       "            </style>\n",
       "            "
      ],
      "text/plain": [
       "<IPython.core.display.HTML object>"
      ]
     },
     "metadata": {},
     "output_type": "display_data"
    },
    {
     "ename": "AttributeError",
     "evalue": "LandTrendr object has not been initialized. Please run the 'run' method.",
     "output_type": "error",
     "traceback": [
      "\u001b[1;31m---------------------------------------------------------------------------\u001b[0m",
      "\u001b[1;31mAttributeError\u001b[0m                            Traceback (most recent call last)",
      "Cell \u001b[1;32mIn[5], line 3\u001b[0m\n\u001b[0;32m      1\u001b[0m \u001b[38;5;66;03m# Example 1: Displaying images from Landtrendr\u001b[39;00m\n\u001b[1;32m----> 3\u001b[0m lt_tcb \u001b[38;5;241m=\u001b[39m \u001b[43mlt\u001b[49m\u001b[38;5;241;43m.\u001b[39;49m\u001b[43mselect\u001b[49m(\u001b[38;5;124m'\u001b[39m\u001b[38;5;124mftv_nbr_fit\u001b[39m\u001b[38;5;124m'\u001b[39m)\u001b[38;5;241m.\u001b[39mclip(composite_params[\u001b[38;5;124m'\u001b[39m\u001b[38;5;124marea_of_interest\u001b[39m\u001b[38;5;124m'\u001b[39m])\n\u001b[0;32m      4\u001b[0m \u001b[38;5;28mmap\u001b[39m \u001b[38;5;241m=\u001b[39m geemap\u001b[38;5;241m.\u001b[39mMap()\n\u001b[0;32m      5\u001b[0m \u001b[38;5;28mmap\u001b[39m\u001b[38;5;241m.\u001b[39mcenterObject(composite_params[\u001b[38;5;124m'\u001b[39m\u001b[38;5;124marea_of_interest\u001b[39m\u001b[38;5;124m'\u001b[39m], \u001b[38;5;241m13\u001b[39m)\n",
      "File \u001b[1;32m~\\lt-gee-py\\src\\ltgee\\landtrendr.py:603\u001b[0m, in \u001b[0;36mLandTrendr.__getattribute__\u001b[1;34m(self, name)\u001b[0m\n\u001b[0;32m    601\u001b[0m \u001b[38;5;66;03m# 'initilize' is the run method of ee.Image\u001b[39;00m\n\u001b[0;32m    602\u001b[0m \u001b[38;5;28;01mif\u001b[39;00m \u001b[38;5;28mcallable\u001b[39m(attr) \u001b[38;5;129;01mand\u001b[39;00m name \u001b[38;5;129;01mnot\u001b[39;00m \u001b[38;5;129;01min\u001b[39;00m [\u001b[38;5;124m\"\u001b[39m\u001b[38;5;124mrun\u001b[39m\u001b[38;5;124m\"\u001b[39m, \u001b[38;5;124m\"\u001b[39m\u001b[38;5;124minitialize\u001b[39m\u001b[38;5;124m\"\u001b[39m] \u001b[38;5;129;01mand\u001b[39;00m \u001b[38;5;129;01mnot\u001b[39;00m \u001b[38;5;28mself\u001b[39m\u001b[38;5;241m.\u001b[39minitialized:\n\u001b[1;32m--> 603\u001b[0m     \u001b[38;5;28;01mraise\u001b[39;00m \u001b[38;5;167;01mAttributeError\u001b[39;00m(\n\u001b[0;32m    604\u001b[0m         \u001b[38;5;124m\"\u001b[39m\u001b[38;5;124mLandTrendr object has not been initialized. Please run the \u001b[39m\u001b[38;5;124m'\u001b[39m\u001b[38;5;124mrun\u001b[39m\u001b[38;5;124m'\u001b[39m\u001b[38;5;124m method.\u001b[39m\u001b[38;5;124m\"\u001b[39m)\n\u001b[0;32m    605\u001b[0m \u001b[38;5;28;01melse\u001b[39;00m:\n\u001b[0;32m    606\u001b[0m     \u001b[38;5;28;01mreturn\u001b[39;00m attr\n",
      "\u001b[1;31mAttributeError\u001b[0m: LandTrendr object has not been initialized. Please run the 'run' method."
     ]
    }
   ],
   "source": [
    "# Example 1: Displaying images from Landtrendr\n",
    "\n",
    "lt_tcb = lt.select('ftv_nbr_fit').clip(composite_params['area_of_interest'])\n",
    "map = geemap.Map()\n",
    "map.centerObject(composite_params['area_of_interest'], 13)\n",
    "map.addLayer(lt_tcb, {}, 'lt_nbr')\n",
    "map.addLayer(composite_params['area_of_interest'], {}, 'area_of_interest')\n",
    "map"
   ]
  },
  {
   "cell_type": "code",
   "execution_count": null,
   "id": "f526c669-6e92-4314-a2c0-30f00e731307",
   "metadata": {
    "scrolled": true
   },
   "outputs": [
    {
     "data": {
      "text/html": [
       "\n",
       "            <style>\n",
       "                .geemap-dark {\n",
       "                    --jp-widgets-color: white;\n",
       "                    --jp-widgets-label-color: white;\n",
       "                    --jp-ui-font-color1: white;\n",
       "                    --jp-layout-color2: #454545;\n",
       "                    background-color: #383838;\n",
       "                }\n",
       "                    \n",
       "                .geemap-dark .jupyter-button {\n",
       "                    --jp-layout-color3: #383838;\n",
       "                }\n",
       "                \n",
       "                .geemap-colab {\n",
       "                    background-color: var(--colab-primary-surface-color, white);\n",
       "                }\n",
       "                    \n",
       "                .geemap-colab .jupyter-button {\n",
       "                    --jp-layout-color3: var(--colab-primary-surface-color, white);\n",
       "                }\n",
       "            </style>\n",
       "            "
      ],
      "text/plain": [
       "<IPython.core.display.HTML object>"
      ]
     },
     "metadata": {},
     "output_type": "display_data"
    },
    {
     "data": {
      "application/vnd.jupyter.widget-view+json": {
       "model_id": "fe7799d5b0944301bf4ac468914cd24f",
       "version_major": 2,
       "version_minor": 0
      },
      "text/plain": [
       "Map(center=[44.661026124368775, -122.31983825467653], controls=(WidgetControl(options=['position', 'transparen…"
      ]
     },
     "execution_count": 6,
     "metadata": {},
     "output_type": "execute_result"
    }
   ],
   "source": [
    "# Example 2: Displaying collection to band stack\n",
    "\n",
    "# Note: lt_collection outside of the class can be passed in\n",
    "collection_to_band_stack = lt.collection_to_band_stack(lt.lt_collection, start_date=composite_params[\"start_date\"],  end_date=composite_params[\"end_date\"])\n",
    "\n",
    "map = geemap.Map()\n",
    "map.centerObject(composite_params['area_of_interest'], 13)\n",
    "map.addLayer(collection_to_band_stack, {\"bands\":[\"2000\"],\"min\":-100,\"max\":1000,\"palette\":[\"ff2f0d\",\"fff825\",\"0ab308\"]})\n",
    "map.addLayer(composite_params['area_of_interest'], {}, 'area_of_interest')\n",
    "map"
   ]
  },
  {
   "cell_type": "code",
   "execution_count": null,
   "id": "12caa989-73dd-4e4f-a6d6-d5dcf8b6e18c",
   "metadata": {},
   "outputs": [
    {
     "data": {
      "text/html": [
       "\n",
       "            <style>\n",
       "                .geemap-dark {\n",
       "                    --jp-widgets-color: white;\n",
       "                    --jp-widgets-label-color: white;\n",
       "                    --jp-ui-font-color1: white;\n",
       "                    --jp-layout-color2: #454545;\n",
       "                    background-color: #383838;\n",
       "                }\n",
       "                    \n",
       "                .geemap-dark .jupyter-button {\n",
       "                    --jp-layout-color3: #383838;\n",
       "                }\n",
       "                \n",
       "                .geemap-colab {\n",
       "                    background-color: var(--colab-primary-surface-color, white);\n",
       "                }\n",
       "                    \n",
       "                .geemap-colab .jupyter-button {\n",
       "                    --jp-layout-color3: var(--colab-primary-surface-color, white);\n",
       "                }\n",
       "            </style>\n",
       "            "
      ],
      "text/plain": [
       "<IPython.core.display.HTML object>"
      ]
     },
     "metadata": {},
     "output_type": "display_data"
    },
    {
     "data": {
      "application/vnd.jupyter.widget-view+json": {
       "model_id": "5309a8a6454745f788361fbb2612bb27",
       "version_major": 2,
       "version_minor": 0
      },
      "text/plain": [
       "Map(center=[44.661026124368775, -122.31983825467653], controls=(WidgetControl(options=['position', 'transparen…"
      ]
     },
     "execution_count": 7,
     "metadata": {},
     "output_type": "execute_result"
    }
   ],
   "source": [
    "# Example 3: Displaying change data\n",
    "# Note: Change params does not require all keys to be present and will only process what is passed in.\n",
    "\n",
    "change_params = {\n",
    "                    'delta': 'loss',\n",
    "                    'sort': 'greatest',\n",
    "                    'years': {'start': composite_params[\"start_date\"].year + 1, 'end': composite_params[\"end_date\"].year},\n",
    "                    'mag': {'value': 200, 'operator': '>' },\n",
    "                    'dur': {'value': 4, 'operator': '<'},\n",
    "                    'preval': {'value': 300, 'operator': '>'},\n",
    "                    'mmu': {'value': 5}\n",
    "                }\n",
    "change_image = lt.get_change_map(change_params)\n",
    "\n",
    "palette = ['#9400D3', '#4B0082', '#0000FF', '#00FF00', '#FFFF00', '#FF7F00', '#FF0000'];\n",
    "yod_vis_params = {\n",
    "  'min': change_params['years']['start'],\n",
    "  'max': change_params['years']['end'],\n",
    "  'palette': palette\n",
    "}\n",
    "mag_vis_params = {\n",
    "  'min': 200,\n",
    "  'max': 800,\n",
    "  'palette': palette\n",
    "}\n",
    "\n",
    "\n",
    "map = geemap.Map()\n",
    "map.centerObject(composite_params['area_of_interest'], 13)\n",
    "map.addLayer(change_image.select(['mag']), yod_vis_params, 'Magnitude of Change')\n",
    "map.addLayer(change_image.select(['yod']), mag_vis_params, 'Year of Detection')\n",
    "map.addLayer(composite_params['area_of_interest'], {}, 'area_of_interest')\n",
    "map"
   ]
  },
  {
   "cell_type": "code",
   "execution_count": null,
   "id": "92f250c9-d408-440f-a0f1-67e23c002a5e",
   "metadata": {},
   "outputs": [
    {
     "data": {
      "text/html": [
       "\n",
       "            <style>\n",
       "                .geemap-dark {\n",
       "                    --jp-widgets-color: white;\n",
       "                    --jp-widgets-label-color: white;\n",
       "                    --jp-ui-font-color1: white;\n",
       "                    --jp-layout-color2: #454545;\n",
       "                    background-color: #383838;\n",
       "                }\n",
       "                    \n",
       "                .geemap-dark .jupyter-button {\n",
       "                    --jp-layout-color3: #383838;\n",
       "                }\n",
       "                \n",
       "                .geemap-colab {\n",
       "                    background-color: var(--colab-primary-surface-color, white);\n",
       "                }\n",
       "                    \n",
       "                .geemap-colab .jupyter-button {\n",
       "                    --jp-layout-color3: var(--colab-primary-surface-color, white);\n",
       "                }\n",
       "            </style>\n",
       "            "
      ],
      "text/plain": [
       "<IPython.core.display.HTML object>"
      ]
     },
     "metadata": {},
     "output_type": "display_data"
    },
    {
     "data": {
      "application/vnd.jupyter.widget-view+json": {
       "model_id": "02fc5917e7a0431d875987cc60c3756d",
       "version_major": 2,
       "version_minor": 0
      },
      "text/plain": [
       "Map(center=[44.661026124368775, -122.31983825467653], controls=(WidgetControl(options=['position', 'transparen…"
      ]
     },
     "execution_count": 8,
     "metadata": {},
     "output_type": "execute_result"
    }
   ],
   "source": [
    "# Example 4: Displaying segment data\n",
    "# In the top right corner hover over the wrench and click the 'i' to use the inspector. Click any point in the aoi to see values.\n",
    "\n",
    "seg_info = lt.get_segment_data('all', index_flip=True).clip(composite_params['area_of_interest'])\n",
    "map = geemap.Map()\n",
    "map.centerObject(composite_params['area_of_interest'], 13)\n",
    "map.addLayer(seg_info, {}, 'seg_info')\n",
    "map.addLayer(composite_params['area_of_interest'], {}, 'area_of_interest')\n",
    "map"
   ]
  },
  {
   "cell_type": "code",
   "execution_count": null,
   "id": "af16e2e6-8944-41d4-8f75-1d4fc2a90b43",
   "metadata": {
    "scrolled": true
   },
   "outputs": [
    {
     "data": {
      "text/html": [
       "\n",
       "            <style>\n",
       "                .geemap-dark {\n",
       "                    --jp-widgets-color: white;\n",
       "                    --jp-widgets-label-color: white;\n",
       "                    --jp-ui-font-color1: white;\n",
       "                    --jp-layout-color2: #454545;\n",
       "                    background-color: #383838;\n",
       "                }\n",
       "                    \n",
       "                .geemap-dark .jupyter-button {\n",
       "                    --jp-layout-color3: #383838;\n",
       "                }\n",
       "                \n",
       "                .geemap-colab {\n",
       "                    background-color: var(--colab-primary-surface-color, white);\n",
       "                }\n",
       "                    \n",
       "                .geemap-colab .jupyter-button {\n",
       "                    --jp-layout-color3: var(--colab-primary-surface-color, white);\n",
       "                }\n",
       "            </style>\n",
       "            "
      ],
      "text/plain": [
       "<IPython.core.display.HTML object>"
      ]
     },
     "metadata": {},
     "output_type": "display_data"
    },
    {
     "data": {
      "application/vnd.jupyter.widget-view+json": {
       "model_id": "fc89f72da6f94202b5aa65522efc1a8b",
       "version_major": 2,
       "version_minor": 0
      },
      "text/plain": [
       "Map(center=[44.661026124368775, -122.31983825467653], controls=(WidgetControl(options=['position', 'transparen…"
      ]
     },
     "execution_count": 9,
     "metadata": {},
     "output_type": "execute_result"
    }
   ],
   "source": [
    "# Example 5: Displaying rgb image\n",
    "\n",
    "vis_params = {\n",
    "  'min': [604, -49, -2245],\n",
    "  'max': [5592, 3147, 843],\n",
    "  'gamma': [1, 1, 1]\n",
    "}\n",
    "\n",
    "lt_rgb = lt.get_fitted_rgb_col(['TCB', 'TCG', 'TCW'], vis_params, composite_params[\"start_date\"], composite_params[\"end_date\"])\n",
    "map = geemap.Map()\n",
    "map.centerObject(composite_params['area_of_interest'], 13)\n",
    "map.addLayer(lt_rgb, {}, 'lt_rgb')\n",
    "map.addLayer(composite_params['area_of_interest'], {}, 'area_of_interest')\n",
    "map"
   ]
  },
  {
   "cell_type": "code",
   "execution_count": null,
   "id": "77fda100-3cab-4c86-966f-6d1e622f47cd",
   "metadata": {},
   "outputs": [
    {
     "data": {
      "text/html": [
       "\n",
       "            <style>\n",
       "                .geemap-dark {\n",
       "                    --jp-widgets-color: white;\n",
       "                    --jp-widgets-label-color: white;\n",
       "                    --jp-ui-font-color1: white;\n",
       "                    --jp-layout-color2: #454545;\n",
       "                    background-color: #383838;\n",
       "                }\n",
       "                    \n",
       "                .geemap-dark .jupyter-button {\n",
       "                    --jp-layout-color3: #383838;\n",
       "                }\n",
       "                \n",
       "                .geemap-colab {\n",
       "                    background-color: var(--colab-primary-surface-color, white);\n",
       "                }\n",
       "                    \n",
       "                .geemap-colab .jupyter-button {\n",
       "                    --jp-layout-color3: var(--colab-primary-surface-color, white);\n",
       "                }\n",
       "            </style>\n",
       "            "
      ],
      "text/plain": [
       "<IPython.core.display.HTML object>"
      ]
     },
     "metadata": {},
     "output_type": "display_data"
    },
    {
     "data": {
      "text/plain": [
       "'https://earthengine.googleapis.com/v1/projects/ee-myscon/videoThumbnails/400bac2ade6e169c6244a37d1fd69804-f5186f13751890705f7968fa04d8939c:getPixels'"
      ]
     },
     "execution_count": 10,
     "metadata": {},
     "output_type": "execute_result"
    }
   ],
   "source": [
    "# Example 6: Creating a gif using data from landtrendr\n",
    "\n",
    "vid_params = {\n",
    "  'crs': 'EPSG:3857',\n",
    "  'dimensions': 300,\n",
    "  'region': composite_params['area_of_interest'],\n",
    "  'framesPerSecond': 8\n",
    "}\n",
    "lt_rgb.getVideoThumbURL(vid_params)"
   ]
  },
  {
   "cell_type": "code",
   "execution_count": null,
   "id": "6a234bfd-b9c6-4a94-990c-48df53bab242",
   "metadata": {},
   "outputs": [],
   "source": []
  }
 ],
 "metadata": {
  "kernelspec": {
   "display_name": "Python 3 (ipykernel)",
   "language": "python",
   "name": "python3"
  },
  "language_info": {
   "codemirror_mode": {
    "name": "ipython",
    "version": 3
   },
   "file_extension": ".py",
   "mimetype": "text/x-python",
   "name": "python",
   "nbconvert_exporter": "python",
   "pygments_lexer": "ipython3",
   "version": "3.12.3"
  }
 },
 "nbformat": 4,
 "nbformat_minor": 5
}
